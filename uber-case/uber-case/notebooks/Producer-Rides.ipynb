{
 "cells": [
  {
   "cell_type": "code",
   "execution_count": 1,
   "id": "afad418b-ea24-460f-8626-177814f5377a",
   "metadata": {},
   "outputs": [],
   "source": [
    "import random\n",
    "from datetime import datetime\n",
    "from confluent_kafka import Producer\n",
    "import json\n",
    "import string\n",
    "from faker import Faker"
   ]
  },
  {
   "cell_type": "code",
   "execution_count": 2,
   "id": "4c3e4817-900e-430c-9b33-9a6272c0c6e8",
   "metadata": {},
   "outputs": [],
   "source": [
    "def calculate_price(distance_traveled, time_spent):\n",
    "    # Constants\n",
    "    base_fare = 2.00\n",
    "    distance_rate = 1.50\n",
    "    time_rate = 0.25\n",
    "    total_fare = base_fare + (distance_rate * distance_traveled) + (time_rate * time_spent)\n",
    "    return round(total_fare,2)\n",
    "\n",
    "def generate_id():\n",
    "    letras_aleatorias = ''.join(random.choice(string.ascii_uppercase) for _ in range(7))\n",
    "    return letras_aleatorias.lower()\n",
    "\n",
    "def gerar_valor_aleatorio():\n",
    "    chance_1 = random.random() \n",
    "\n",
    "    if chance_1 <= 0.25:\n",
    "        return 1\n",
    "    else:\n",
    "        return 0"
   ]
  },
  {
   "cell_type": "code",
   "execution_count": 3,
   "id": "5d341a85-fff4-4d59-99a8-0c07340b47bd",
   "metadata": {},
   "outputs": [],
   "source": [
    "topic = \"topic-ingestion\"\n",
    "ip_kafka = '192.168.1.6:9092'"
   ]
  },
  {
   "cell_type": "code",
   "execution_count": 4,
   "id": "7a073f6a-da8e-4d38-a25d-5ed265e9c6ea",
   "metadata": {},
   "outputs": [],
   "source": [
    "fake = Faker()"
   ]
  },
  {
   "cell_type": "code",
   "execution_count": 6,
   "id": "72c8faaa-096a-4535-b809-920f36397d97",
   "metadata": {},
   "outputs": [],
   "source": [
    "for i in range(100):\n",
    "    uber_black = gerar_valor_aleatorio()\n",
    "    time_travel = random.randint(1,30)\n",
    "    distance_travel = time_travel * 0.45\n",
    "    price = calculate_price(distance_travel, time_travel)\n",
    "    if uber_black == 1:\n",
    "        price = price * 1.538\n",
    "\n",
    "    data = {\n",
    "    \"id\": generate_id(),\n",
    "    \"user_id\": random.randint(1,30),\n",
    "    \"driver_id\": random.randint(1,30),\n",
    "    \"source\": fake.city(), \n",
    "    \"destination\": fake.city(),\n",
    "    \"price\": round(price,2),\n",
    "    \"time_traveled\": round(time_travel,2),\n",
    "    \"distance_traveled\": round(distance_travel,2),\n",
    "    \"uber_black\": uber_black,\n",
    "    \"time_message\": str(datetime.now())\n",
    "\n",
    "    }\n",
    "\n",
    "    # Configuração do produtor\n",
    "    conf = {'bootstrap.servers': ip_kafka}\n",
    "    producer = Producer(conf)\n",
    "\n",
    "    json_data = json.dumps(data).encode('utf-8')\n",
    "\n",
    "    producer.produce(topic, value=json_data)\n",
    "\n",
    "    # Limpando o buffer do produtor\n",
    "    producer.flush()\n",
    "\n",
    "    "
   ]
  },
  {
   "cell_type": "code",
   "execution_count": null,
   "id": "d7d84be7-19fe-44d3-9379-dd9d37c6c375",
   "metadata": {},
   "outputs": [],
   "source": []
  }
 ],
 "metadata": {
  "kernelspec": {
   "display_name": "Python 3 (ipykernel)",
   "language": "python",
   "name": "python3"
  },
  "language_info": {
   "codemirror_mode": {
    "name": "ipython",
    "version": 3
   },
   "file_extension": ".py",
   "mimetype": "text/x-python",
   "name": "python",
   "nbconvert_exporter": "python",
   "pygments_lexer": "ipython3",
   "version": "3.11.6"
  }
 },
 "nbformat": 4,
 "nbformat_minor": 5
}
