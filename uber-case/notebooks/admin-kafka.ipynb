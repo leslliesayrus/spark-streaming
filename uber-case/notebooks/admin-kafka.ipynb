{
 "cells": [
  {
   "cell_type": "code",
   "execution_count": null,
   "id": "5c358a44-8e8a-45c6-95c1-84313d3b283b",
   "metadata": {},
   "outputs": [],
   "source": [
    "#!pip install confluent_kafka faker"
   ]
  },
  {
   "cell_type": "code",
   "execution_count": 5,
   "id": "a5c1682b-4e8c-4861-8361-97fd2ce5272d",
   "metadata": {},
   "outputs": [
    {
     "name": "stdout",
     "output_type": "stream",
     "text": [
      "topic-processed\n",
      "__confluent.support.metrics\n",
      "topic-ingestion\n"
     ]
    }
   ],
   "source": [
    "# list topics\n",
    "from confluent_kafka.admin import AdminClient, NewTopic\n",
    "\n",
    "# Configuração do cliente de administração\n",
    "conf = {'bootstrap.servers': '192.168.1.6:9092'}\n",
    "admin_client = AdminClient(conf)\n",
    "\n",
    "# Listando todos os tópicos\n",
    "topics = admin_client.list_topics().topics\n",
    "\n",
    "# Imprimindo o nome de todos os tópicos\n",
    "for topic in topics:\n",
    "    print(topic)"
   ]
  },
  {
   "cell_type": "code",
   "execution_count": 4,
   "id": "1095703a-b251-4bce-8756-bcda6e94d8bd",
   "metadata": {},
   "outputs": [
    {
     "data": {
      "text/plain": [
       "{'topic-processed': <Future at 0x7f3aec2ba910 state=running>}"
      ]
     },
     "execution_count": 4,
     "metadata": {},
     "output_type": "execute_result"
    }
   ],
   "source": [
    "### create topic\n",
    "from confluent_kafka.admin import AdminClient, NewTopic\n",
    "\n",
    "# Configurações do cluster Kafka\n",
    "conf = {'bootstrap.servers': '192.168.1.6:9092'}\n",
    "\n",
    "# Cria uma instância do AdminClient\n",
    "admin_client = AdminClient(conf)\n",
    "\n",
    "# Cria um objeto NewTopic\n",
    "new_topic = NewTopic(\n",
    "    \"topic-processed\", num_partitions=2, replication_factor=1\n",
    ")\n",
    "\n",
    "# Cria o tópico\n",
    "admin_client.create_topics([new_topic])"
   ]
  },
  {
   "cell_type": "code",
   "execution_count": 2,
   "id": "e689405d-bb42-481c-9ac5-5d3afbb8c5b8",
   "metadata": {},
   "outputs": [],
   "source": [
    "# # delete a topic\n",
    "# admin_client.delete_topics([\"topic-processed\"])"
   ]
  },
  {
   "cell_type": "code",
   "execution_count": null,
   "id": "6175315c-ea11-40e6-a789-59b49fd733d8",
   "metadata": {},
   "outputs": [],
   "source": [
    "print(4)"
   ]
  },
  {
   "cell_type": "code",
   "execution_count": null,
   "id": "b993b0fe-98fc-4dd9-8840-ba6b2eecfaa4",
   "metadata": {},
   "outputs": [],
   "source": []
  }
 ],
 "metadata": {
  "kernelspec": {
   "display_name": "Python 3 (ipykernel)",
   "language": "python",
   "name": "python3"
  },
  "language_info": {
   "codemirror_mode": {
    "name": "ipython",
    "version": 3
   },
   "file_extension": ".py",
   "mimetype": "text/x-python",
   "name": "python",
   "nbconvert_exporter": "python",
   "pygments_lexer": "ipython3",
   "version": "3.11.6"
  }
 },
 "nbformat": 4,
 "nbformat_minor": 5
}
