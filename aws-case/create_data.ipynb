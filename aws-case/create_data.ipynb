{
 "cells": [
  {
   "cell_type": "code",
   "execution_count": 1,
   "id": "c636d3fa",
   "metadata": {},
   "outputs": [],
   "source": [
    "import pandas as pd\n",
    "import random\n",
    "from datetime import datetime\n",
    "from time import sleep \n",
    "import string"
   ]
  },
  {
   "cell_type": "code",
   "execution_count": 2,
   "id": "1941831d",
   "metadata": {},
   "outputs": [],
   "source": [
    "def generate_id():\n",
    "    return ''.join(random.choice(string.ascii_lowercase) for _ in range(7))"
   ]
  },
  {
   "cell_type": "code",
   "execution_count": 3,
   "id": "3961eda4",
   "metadata": {},
   "outputs": [],
   "source": [
    "names = [\"Alice\", \"Bob\", \"Charlie\", \"David\", \"Eva\", \"Frank\", \"Grace\", \"Hank\", \"Ivy\", \"Jack\"]\n",
    "cities = [ \"New York\", \"Los Angeles\", \"Chicago\", \"Houston\", \"Phoenix\", \"Philadelphia\", \"San Antonio\", \"San Diego\", \"Dallas\", \"San Francisco\"]\n",
    "products = {'YqlRif2a': 50, 'Lt3p55iF': 20, 'xYaJCziS': 10, 'CXdscE12': 50, 'FdJSNAlE': 30, '9RGsZaH4': 5, 'O8IWqZj2': 10, 'tN3tIWYd': 20, 'susspr5J':30, 'hK2EMxkl':20}"
   ]
  },
  {
   "cell_type": "code",
   "execution_count": null,
   "id": "351065a7",
   "metadata": {},
   "outputs": [],
   "source": []
  },
  {
   "cell_type": "code",
   "execution_count": 7,
   "id": "0ec17118",
   "metadata": {},
   "outputs": [],
   "source": [
    "for i in range(10):\n",
    "    sleep(0.2)\n",
    "    \n",
    "    \n",
    "    prd = random.choice(list(products.keys()))\n",
    "    time = str(datetime.now().strftime(\"%Y%m%d%H%M%S\"))\n",
    "\n",
    "    data = {\n",
    "        \n",
    "     \"id\": [generate_id()],\n",
    "     \"product\": [prd],\n",
    "    \"price_unit\": [products[prd]],\n",
    "    \"quantity\": [random.randint(1,20)],\n",
    "    \"seller\": [random.choice(names)],\n",
    "    \"city\": [random.choice(cities)],\n",
    "    \"timestamp\": [time]\n",
    "    }\n",
    "    \n",
    "    df = pd.DataFrame(data)\n",
    "    \n",
    "    name_file = f\"{data['id'][0]}_{time}.json\"\n",
    "    \n",
    "\n",
    "    df.to_json(f's3://pod-academy-ingestion/sales/{name_file}', orient='records', lines=True)"
   ]
  },
  {
   "cell_type": "code",
   "execution_count": 6,
   "id": "aaa641bb",
   "metadata": {},
   "outputs": [
    {
     "data": {
      "text/html": [
       "<div>\n",
       "<style scoped>\n",
       "    .dataframe tbody tr th:only-of-type {\n",
       "        vertical-align: middle;\n",
       "    }\n",
       "\n",
       "    .dataframe tbody tr th {\n",
       "        vertical-align: top;\n",
       "    }\n",
       "\n",
       "    .dataframe thead th {\n",
       "        text-align: right;\n",
       "    }\n",
       "</style>\n",
       "<table border=\"1\" class=\"dataframe\">\n",
       "  <thead>\n",
       "    <tr style=\"text-align: right;\">\n",
       "      <th></th>\n",
       "      <th>id</th>\n",
       "      <th>product</th>\n",
       "      <th>price_unit</th>\n",
       "      <th>quantity</th>\n",
       "      <th>seller</th>\n",
       "      <th>city</th>\n",
       "      <th>timestamp</th>\n",
       "    </tr>\n",
       "  </thead>\n",
       "  <tbody>\n",
       "    <tr>\n",
       "      <th>0</th>\n",
       "      <td>iivsvya</td>\n",
       "      <td>xYaJCziS</td>\n",
       "      <td>10</td>\n",
       "      <td>15</td>\n",
       "      <td>Eva</td>\n",
       "      <td>San Francisco</td>\n",
       "      <td>20240120220416</td>\n",
       "    </tr>\n",
       "  </tbody>\n",
       "</table>\n",
       "</div>"
      ],
      "text/plain": [
       "        id   product  price_unit  quantity seller           city  \\\n",
       "0  iivsvya  xYaJCziS          10        15    Eva  San Francisco   \n",
       "\n",
       "        timestamp  \n",
       "0  20240120220416  "
      ]
     },
     "execution_count": 6,
     "metadata": {},
     "output_type": "execute_result"
    }
   ],
   "source": [
    "df"
   ]
  },
  {
   "cell_type": "code",
   "execution_count": null,
   "id": "3ef3147c",
   "metadata": {},
   "outputs": [],
   "source": []
  }
 ],
 "metadata": {
  "kernelspec": {
   "display_name": "Python 3",
   "language": "python",
   "name": "python3"
  },
  "language_info": {
   "codemirror_mode": {
    "name": "ipython",
    "version": 3
   },
   "file_extension": ".py",
   "mimetype": "text/x-python",
   "name": "python",
   "nbconvert_exporter": "python",
   "pygments_lexer": "ipython3",
   "version": "3.9.5"
  }
 },
 "nbformat": 4,
 "nbformat_minor": 5
}
